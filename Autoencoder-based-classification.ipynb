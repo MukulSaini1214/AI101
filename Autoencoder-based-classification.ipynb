{
  "nbformat": 4,
  "nbformat_minor": 0,
  "metadata": {
    "colab": {
      "provenance": [],
      "gpuType": "T4"
    },
    "kernelspec": {
      "name": "python3",
      "display_name": "Python 3"
    },
    "language_info": {
      "name": "python"
    },
    "accelerator": "GPU"
  },
  "cells": [
    {
      "cell_type": "code",
      "execution_count": null,
      "metadata": {
        "colab": {
          "base_uri": "https://localhost:8080/"
        },
        "id": "yqJ2_Z6y2FBu",
        "outputId": "d048c8bc-3d9a-4163-911e-11b1f02db242"
      },
      "outputs": [
        {
          "output_type": "stream",
          "name": "stdout",
          "text": [
            "Files already downloaded and verified\n",
            "Files already downloaded and verified\n"
          ]
        }
      ],
      "source": [
        "import torch\n",
        "import torchvision\n",
        "import torchvision.transforms as transforms\n",
        "from torch.utils.data import DataLoader\n",
        "import torch.nn as nn\n",
        "import torch.optim as optim\n",
        "\n",
        "# Define transformations\n",
        "transform = transforms.Compose([\n",
        "    transforms.ToTensor(),\n",
        "    transforms.Normalize((0.5, 0.5, 0.5),  # Mean for each channel\n",
        "                         (0.5, 0.5, 0.5))  # Std for each channel\n",
        "])\n",
        "\n",
        "# Load CIFAR-10 training and test datasets\n",
        "train_dataset = torchvision.datasets.CIFAR10(\n",
        "    root='./data',\n",
        "    train=True,\n",
        "    download=True,\n",
        "    transform=transform\n",
        ")\n",
        "\n",
        "test_dataset = torchvision.datasets.CIFAR10(\n",
        "    root='./data',\n",
        "    train=False,\n",
        "    download=True,\n",
        "    transform=transform\n",
        ")\n",
        "\n",
        "# Define DataLoaders\n",
        "batch_size = 128\n",
        "train_loader = DataLoader(\n",
        "    train_dataset,\n",
        "    batch_size=batch_size,\n",
        "    shuffle=True,\n",
        "    num_workers=2\n",
        ")\n",
        "\n",
        "test_loader = DataLoader(\n",
        "    test_dataset,\n",
        "    batch_size=batch_size,\n",
        "    shuffle=False,\n",
        "    num_workers=2\n",
        ")"
      ]
    },
    {
      "cell_type": "code",
      "source": [
        "train_dataset"
      ],
      "metadata": {
        "colab": {
          "base_uri": "https://localhost:8080/"
        },
        "id": "4CoRbhqz3jrd",
        "outputId": "8ad598e4-3020-4cdf-bc8f-8d314a0ef452"
      },
      "execution_count": null,
      "outputs": [
        {
          "output_type": "execute_result",
          "data": {
            "text/plain": [
              "Dataset CIFAR10\n",
              "    Number of datapoints: 50000\n",
              "    Root location: ./data\n",
              "    Split: Train\n",
              "    StandardTransform\n",
              "Transform: Compose(\n",
              "               ToTensor()\n",
              "               Normalize(mean=(0.5, 0.5, 0.5), std=(0.5, 0.5, 0.5))\n",
              "           )"
            ]
          },
          "metadata": {},
          "execution_count": 5
        }
      ]
    },
    {
      "cell_type": "code",
      "source": [
        "# data_iter = iter(train_loader)\n",
        "# images, labels = next(data_iter)\n",
        "# print(\"Batch shape:\", images.shape)  # Shape will be [batch_size, 3, 32, 32]\n",
        "# print(\"Batch labels:\", labels.shape)"
      ],
      "metadata": {
        "colab": {
          "base_uri": "https://localhost:8080/"
        },
        "id": "UraNHtRu9Z0n",
        "outputId": "0affb388-04b2-4932-988c-d53682834393"
      },
      "execution_count": null,
      "outputs": [
        {
          "output_type": "stream",
          "name": "stdout",
          "text": [
            "Batch shape: torch.Size([128, 3, 32, 32])\n",
            "Batch labels: torch.Size([128])\n"
          ]
        }
      ]
    },
    {
      "cell_type": "code",
      "source": [
        "device = torch.device(\"cuda\" if torch.cuda.is_available() else \"cpu\")"
      ],
      "metadata": {
        "id": "gW-zmpRzMZ8m"
      },
      "execution_count": null,
      "outputs": []
    },
    {
      "cell_type": "code",
      "source": [
        "# Define Encoder\n",
        "encoder = nn.Sequential(\n",
        "    nn.Conv2d(3, 64, kernel_size=3, stride=1, padding=1),  # Output: (64, 32, 32)\n",
        "    nn.BatchNorm2d(64),  #here we are using the (64) coming from teh output of above layer\n",
        "    nn.ReLU(),\n",
        "    nn.MaxPool2d(2, 2),\n",
        "    nn.Conv2d(64, 128, kernel_size=3, stride=1, padding=1),\n",
        "    nn.BatchNorm2d(128),\n",
        "    nn.ReLU(),\n",
        "    nn.MaxPool2d(2, 2),\n",
        "    nn.Conv2d(128, 256, kernel_size=3, stride=1, padding=1),\n",
        "    nn.BatchNorm2d(256),\n",
        "    nn.ReLU(),\n",
        "    nn.MaxPool2d(2, 2),\n",
        ")\n",
        "\n",
        "decoder = nn.Sequential(\n",
        "    nn.ConvTranspose2d(256, 128, kernel_size=3, stride=2, padding=1, output_padding=1),\n",
        "    nn.BatchNorm2d(128),\n",
        "    nn.ReLU(),\n",
        "    nn.ConvTranspose2d(128, 64, kernel_size=3, stride=2, padding=1, output_padding=1),\n",
        "    nn.BatchNorm2d(64),\n",
        "    nn.ReLU(),\n",
        "    nn.ConvTranspose2d(64, 3, kernel_size=3, stride=2, padding=1, output_padding=1),\n",
        "    nn.Tanh()  # output normalised between -1 to 1\n",
        "\n",
        ")\n",
        "\n",
        "# tried increaseing the layer but not getting good accuracy\n",
        "encoder = encoder.to(device)\n",
        "decoder = decoder.to(device)\n",
        "\n",
        "criterion = nn.MSELoss()\n",
        "optimizer = optim.Adam(list(encoder.parameters()) + list(decoder.parameters()), lr=0.001)\n",
        "\n",
        "\n"
      ],
      "metadata": {
        "id": "WKqF5YNQ-QrV"
      },
      "execution_count": null,
      "outputs": []
    },
    {
      "cell_type": "code",
      "source": [],
      "metadata": {
        "id": "z-GKbYxfBtcU"
      },
      "execution_count": null,
      "outputs": []
    },
    {
      "cell_type": "code",
      "source": [
        "# Start of the training loop\n",
        "num_epochs = 15\n",
        "for epoch_idx in range(num_epochs):\n",
        "    encoder.train()\n",
        "    decoder.train()\n",
        "    cumulative_loss = 0.0\n",
        "\n",
        "    # Loop through each batch in the training set\n",
        "    for batch_images, _ in train_loader:\n",
        "        batch_images = batch_images.to(device)\n",
        "\n",
        "        # Forward pass through the encoder and decoder\n",
        "        encoded_images = encoder(batch_images)\n",
        "        reconstructed_images = decoder(encoded_images)\n",
        "        reconstruction_loss = criterion(reconstructed_images, batch_images)\n",
        "        optimizer.zero_grad()\n",
        "        reconstruction_loss.backward()\n",
        "        optimizer.step()\n",
        "\n",
        "        cumulative_loss += reconstruction_loss.item() #to accumuate the loss\n",
        "\n",
        "    average_loss = cumulative_loss / len(train_loader)\n",
        "    print(f\"Epoch {epoch_idx + 1}/{num_epochs}, Average Loss: {average_loss:.4f}\")"
      ],
      "metadata": {
        "colab": {
          "base_uri": "https://localhost:8080/"
        },
        "id": "p-dNbdQ6IaUp",
        "outputId": "a451fe11-bf94-4849-d0bb-21faadeadb10"
      },
      "execution_count": null,
      "outputs": [
        {
          "output_type": "stream",
          "name": "stdout",
          "text": [
            "Epoch 1/15, Average Loss: 0.0427\n",
            "Epoch 2/15, Average Loss: 0.0211\n",
            "Epoch 3/15, Average Loss: 0.0180\n",
            "Epoch 4/15, Average Loss: 0.0160\n",
            "Epoch 5/15, Average Loss: 0.0151\n",
            "Epoch 6/15, Average Loss: 0.0140\n",
            "Epoch 7/15, Average Loss: 0.0135\n",
            "Epoch 8/15, Average Loss: 0.0129\n",
            "Epoch 9/15, Average Loss: 0.0124\n",
            "Epoch 10/15, Average Loss: 0.0122\n",
            "Epoch 11/15, Average Loss: 0.0117\n",
            "Epoch 12/15, Average Loss: 0.0117\n",
            "Epoch 13/15, Average Loss: 0.0111\n",
            "Epoch 14/15, Average Loss: 0.0111\n",
            "Epoch 15/15, Average Loss: 0.0107\n"
          ]
        }
      ]
    },
    {
      "cell_type": "code",
      "source": [
        "# Feature Extraction\n",
        "encoder.eval()\n",
        "feat, lbls = [], []\n",
        "with torch.no_grad():\n",
        "    for imgs, lbl in train_loader:\n",
        "        imgs = imgs.to(device)\n",
        "        encoded_imgs = encoder(imgs)\n",
        "        feat.append(encoded_imgs.view(encoded_imgs.size(0), -1).cpu())\n",
        "        lbls.append(lbl)\n",
        "\n",
        "feat = torch.cat(feat)\n",
        "lbls = torch.cat(lbls)\n",
        "\n",
        "# Defining Classifier\n",
        "input_size = feat.size(1)\n",
        "model = nn.Sequential(\n",
        "    nn.Linear(input_size, 512),\n",
        "    nn.ReLU(),\n",
        "    nn.BatchNorm1d(512),\n",
        "    nn.Dropout(0.1),\n",
        "    nn.Linear(512, 256),\n",
        "    nn.ReLU(),\n",
        "    nn.BatchNorm1d(256),\n",
        "    nn.Dropout(0.1),\n",
        "    nn.Linear(256, 128),\n",
        "    nn.ReLU(),\n",
        "    nn.BatchNorm1d(128),\n",
        "    nn.Dropout(0.1),\n",
        "    nn.Linear(128, 64),\n",
        "    nn.ReLU(),\n",
        "    nn.BatchNorm1d(64),\n",
        "    nn.Dropout(0.1),\n",
        "    nn.Linear(64, 10)  # Output layer for CIFAR-10 has 10 neurons as to classify the 10 classes\n",
        ").to(device)\n",
        "\n",
        "criterion = nn.CrossEntropyLoss()\n",
        "optimizer = optim.Adam(model.parameters(), lr=0.001)"
      ],
      "metadata": {
        "id": "m4ClxOiqQP8w"
      },
      "execution_count": null,
      "outputs": []
    },
    {
      "cell_type": "code",
      "source": [
        "# Training Function\n",
        "def train(model, criterion, optimizer, loader, epoch_num):\n",
        "    model.train()\n",
        "    total_loss = 0\n",
        "    correct = 0\n",
        "    total = 0\n",
        "    for features, labels in loader:\n",
        "        features, labels = features.to(device), labels.to(device)\n",
        "        outputs = model(features)\n",
        "\n",
        "        loss = criterion(outputs, labels)\n",
        "        optimizer.zero_grad()\n",
        "        loss.backward()\n",
        "        optimizer.step()\n",
        "        total_loss += loss.item()\n",
        "    print(f\"Epoch {epoch_num + 1}, Loss: {total_loss / len(loader)}\")\n"
      ],
      "metadata": {
        "id": "AtVouY7-RoyV"
      },
      "execution_count": null,
      "outputs": []
    },
    {
      "cell_type": "code",
      "source": [
        "# Test Function\n",
        "def test(model, criterion, loader):\n",
        "    model.eval()\n",
        "    correct = 0\n",
        "    total = 0\n",
        "    with torch.no_grad():\n",
        "        for features, labels in loader:\n",
        "            features, labels = features.to(device), labels.to(device)\n",
        "            outputs = model(features)\n",
        "\n",
        "            _, predicted = torch.max(outputs, 1)\n",
        "            correct += (predicted == labels).sum().item()\n",
        "            total += labels.size(0)\n",
        "\n",
        "    accuracy = 100 * correct / total\n",
        "    print(f\"Test Accuracy: {accuracy:.2f}%\")\n",
        "    return accuracy"
      ],
      "metadata": {
        "id": "gbmGWvHcVyw2"
      },
      "execution_count": null,
      "outputs": []
    },
    {
      "cell_type": "code",
      "source": [
        "dataset = torch.utils.data.TensorDataset(feat, lbls)\n",
        "loader = DataLoader(dataset, batch_size=batch_size, shuffle=True)\n",
        "\n",
        "# Training the model\n",
        "for epoch in range(15):\n",
        "    train(model, criterion, optimizer, loader, epoch)\n"
      ],
      "metadata": {
        "colab": {
          "base_uri": "https://localhost:8080/"
        },
        "id": "E1KaCmlUR5-l",
        "outputId": "df6a41ac-013f-41da-8454-beaee1356111"
      },
      "execution_count": null,
      "outputs": [
        {
          "output_type": "stream",
          "name": "stdout",
          "text": [
            "Epoch 1, Loss: 0.5632164389885905\n",
            "Epoch 2, Loss: 0.5382214123788087\n",
            "Epoch 3, Loss: 0.5004636030977644\n",
            "Epoch 4, Loss: 0.48134150133108544\n",
            "Epoch 5, Loss: 0.4584439420486655\n",
            "Epoch 6, Loss: 0.43881675863967223\n",
            "Epoch 7, Loss: 0.4125533736956394\n",
            "Epoch 8, Loss: 0.3967189257940673\n",
            "Epoch 9, Loss: 0.38395664743755176\n",
            "Epoch 10, Loss: 0.3649588644199664\n",
            "Epoch 11, Loss: 0.35212505923207765\n",
            "Epoch 12, Loss: 0.3405344793406289\n",
            "Epoch 13, Loss: 0.32403787814290325\n",
            "Epoch 14, Loss: 0.3132938877548403\n",
            "Epoch 15, Loss: 0.29897187997008223\n",
            "Test Accuracy: 95.32%\n"
          ]
        },
        {
          "output_type": "execute_result",
          "data": {
            "text/plain": [
              "95.32"
            ]
          },
          "metadata": {},
          "execution_count": 36
        }
      ]
    },
    {
      "cell_type": "code",
      "source": [],
      "metadata": {
        "id": "hnUOfNupXRN8"
      },
      "execution_count": null,
      "outputs": []
    },
    {
      "cell_type": "code",
      "source": [
        "# Testing the model\n",
        "test(model, criterion, loader)"
      ],
      "metadata": {
        "colab": {
          "base_uri": "https://localhost:8080/"
        },
        "id": "62Pn4hhXUHWT",
        "outputId": "58ab1a1a-4c55-46fd-e2d1-e2160b1d1e39"
      },
      "execution_count": null,
      "outputs": [
        {
          "output_type": "stream",
          "name": "stdout",
          "text": [
            "Test Accuracy: 95.32%\n"
          ]
        },
        {
          "output_type": "execute_result",
          "data": {
            "text/plain": [
              "95.32"
            ]
          },
          "metadata": {},
          "execution_count": 37
        }
      ]
    },
    {
      "cell_type": "code",
      "source": [],
      "metadata": {
        "id": "F0ty0YPkUH4T"
      },
      "execution_count": null,
      "outputs": []
    }
  ]
}